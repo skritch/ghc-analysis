{
 "cells": [
  {
   "cell_type": "code",
   "execution_count": 1,
   "metadata": {},
   "outputs": [],
   "source": [
    "import os\n",
    "import matplotlib.pyplot as plt\n",
    "import numpy as np\n",
    "import scipy.stats as stats\n",
    "import pandas as pd\n",
    "import altair\n",
    "import seaborn\n",
    "RANDOM_SEED = 511\n",
    "rng = np.random.default_rng(RANDOM_SEED)\n",
    "seaborn.set_theme(style=\"darkgrid\")\n",
    "altair.renderers.enable('mimetype')\n",
    "\n",
    "db_url: str = os.getenv('DB_URL')"
   ]
  },
  {
   "cell_type": "code",
   "execution_count": 2,
   "metadata": {},
   "outputs": [
    {
     "data": {
      "text/html": [
       "<div>\n",
       "<style scoped>\n",
       "    .dataframe tbody tr th:only-of-type {\n",
       "        vertical-align: middle;\n",
       "    }\n",
       "\n",
       "    .dataframe tbody tr th {\n",
       "        vertical-align: top;\n",
       "    }\n",
       "\n",
       "    .dataframe thead th {\n",
       "        text-align: right;\n",
       "    }\n",
       "</style>\n",
       "<table border=\"1\" class=\"dataframe\">\n",
       "  <thead>\n",
       "    <tr style=\"text-align: right;\">\n",
       "      <th>county_name</th>\n",
       "      <th>Albany</th>\n",
       "      <th>Allegany</th>\n",
       "      <th>Broome</th>\n",
       "    </tr>\n",
       "  </thead>\n",
       "  <tbody>\n",
       "    <tr>\n",
       "      <th>is_nyc</th>\n",
       "      <td>False</td>\n",
       "      <td>False</td>\n",
       "      <td>False</td>\n",
       "    </tr>\n",
       "    <tr>\n",
       "      <th>opioid_burden</th>\n",
       "      <td>896</td>\n",
       "      <td>22</td>\n",
       "      <td>605</td>\n",
       "    </tr>\n",
       "    <tr>\n",
       "      <th>opioid_burden_rate_per_100k</th>\n",
       "      <td>300.379998</td>\n",
       "      <td>45.234556</td>\n",
       "      <td>311.607449</td>\n",
       "    </tr>\n",
       "    <tr>\n",
       "      <th>overdose_deaths</th>\n",
       "      <td>49</td>\n",
       "      <td>2</td>\n",
       "      <td>35</td>\n",
       "    </tr>\n",
       "    <tr>\n",
       "      <th>overdose_rate_per_100k</th>\n",
       "      <td>16.0</td>\n",
       "      <td>4.3</td>\n",
       "      <td>18.2</td>\n",
       "    </tr>\n",
       "  </tbody>\n",
       "</table>\n",
       "</div>"
      ],
      "text/plain": [
       "county_name                      Albany   Allegany      Broome\n",
       "is_nyc                            False      False       False\n",
       "opioid_burden                       896         22         605\n",
       "opioid_burden_rate_per_100k  300.379998  45.234556  311.607449\n",
       "overdose_deaths                      49          2          35\n",
       "overdose_rate_per_100k             16.0        4.3        18.2"
      ]
     },
     "execution_count": 2,
     "metadata": {},
     "output_type": "execute_result"
    }
   ],
   "source": [
    "# 1 Vet \"opioid burden\" as directionally correct with deaths\n",
    "# Agg zip-level opioid burdens and compare to county level opioid deaths\n",
    "\n",
    "sql = \"\"\"\n",
    "with opioid_burden_by_county AS (\n",
    "    select\n",
    "        county_name,\n",
    "        is_nyc,\n",
    "        sum(population_total) as population,\n",
    "        sum(opioid_burden) AS opioid_burden,\n",
    "        sum(opioid_burden_rate_per_100k * population_total)::float \n",
    "            / nullif(sum(population_total), 0) as opioid_burden_rate_per_100k\n",
    "    from ny_zip_opioid_burden_2019\n",
    "        left join ny_zcta_demographics AS pops using (zip_code)\n",
    "    group by 1,2\n",
    ")\n",
    ", overdose_deaths_by_county as (\n",
    "    select \n",
    "        county_name,\n",
    "        deaths, \n",
    "        total_population,\n",
    "        rate_per_100k as overdose_rate_per_100k\n",
    "    from ny_county_od_trend\n",
    "    where year = '2019'\n",
    ")\n",
    "select\n",
    "    county_name,\n",
    "    is_nyc,\n",
    "    op.opioid_burden,\n",
    "    op.opioid_burden_rate_per_100k,\n",
    "    od.deaths as overdose_deaths,\n",
    "    od.overdose_rate_per_100k\n",
    "from opioid_burden_by_county as op\n",
    "    full outer join overdose_deaths_by_county as od using (county_name)\n",
    "\"\"\"\n",
    "county_df = pd.read_sql(sql, con=db_url)\n",
    "county_df = county_df.set_index('county_name')\n",
    "county_df.head(3).T"
   ]
  },
  {
   "cell_type": "code",
   "execution_count": 3,
   "metadata": {},
   "outputs": [
    {
     "data": {
      "text/plain": [
       "<seaborn.axisgrid.FacetGrid at 0x103c401c0>"
      ]
     },
     "execution_count": 3,
     "metadata": {},
     "output_type": "execute_result"
    },
    {
     "data": {
      "image/png": "[encoded data removed]",
      "text/plain": [
       "<Figure size 592.5x500 with 1 Axes>"
      ]
     },
     "metadata": {},
     "output_type": "display_data"
    }
   ],
   "source": [
    "plot = seaborn.lmplot(\n",
    "    county_df,\n",
    "    x='overdose_deaths',\n",
    "    y='opioid_burden',\n",
    "    hue='is_nyc',\n",
    ")\n",
    "plot.set(title='Opioid Burden vs Ovedose Deaths')"
   ]
  },
  {
   "cell_type": "code",
   "execution_count": 7,
   "metadata": {},
   "outputs": [
    {
     "data": {
      "text/html": [
       "<div>\n",
       "<style scoped>\n",
       "    .dataframe tbody tr th:only-of-type {\n",
       "        vertical-align: middle;\n",
       "    }\n",
       "\n",
       "    .dataframe tbody tr th {\n",
       "        vertical-align: top;\n",
       "    }\n",
       "\n",
       "    .dataframe thead th {\n",
       "        text-align: right;\n",
       "    }\n",
       "</style>\n",
       "<table border=\"1\" class=\"dataframe\">\n",
       "  <thead>\n",
       "    <tr style=\"text-align: right;\">\n",
       "      <th></th>\n",
       "      <th>is_nyc</th>\n",
       "      <th>opioid_burden</th>\n",
       "      <th>opioid_burden_rate_per_100k</th>\n",
       "      <th>overdose_deaths</th>\n",
       "      <th>overdose_rate_per_100k</th>\n",
       "    </tr>\n",
       "    <tr>\n",
       "      <th>county_name</th>\n",
       "      <th></th>\n",
       "      <th></th>\n",
       "      <th></th>\n",
       "      <th></th>\n",
       "      <th></th>\n",
       "    </tr>\n",
       "  </thead>\n",
       "  <tbody>\n",
       "    <tr>\n",
       "      <th>Bronx</th>\n",
       "      <td>True</td>\n",
       "      <td>7191</td>\n",
       "      <td>484.968684</td>\n",
       "      <td>342</td>\n",
       "      <td>23.9</td>\n",
       "    </tr>\n",
       "    <tr>\n",
       "      <th>Kings</th>\n",
       "      <td>True</td>\n",
       "      <td>6610</td>\n",
       "      <td>250.243161</td>\n",
       "      <td>278</td>\n",
       "      <td>10.8</td>\n",
       "    </tr>\n",
       "    <tr>\n",
       "      <th>New York</th>\n",
       "      <td>True</td>\n",
       "      <td>5520</td>\n",
       "      <td>338.541373</td>\n",
       "      <td>248</td>\n",
       "      <td>15.2</td>\n",
       "    </tr>\n",
       "    <tr>\n",
       "      <th>Queens</th>\n",
       "      <td>True</td>\n",
       "      <td>3152</td>\n",
       "      <td>136.561941</td>\n",
       "      <td>192</td>\n",
       "      <td>8.4</td>\n",
       "    </tr>\n",
       "    <tr>\n",
       "      <th>Richmond</th>\n",
       "      <td>True</td>\n",
       "      <td>1639</td>\n",
       "      <td>342.191986</td>\n",
       "      <td>102</td>\n",
       "      <td>21.4</td>\n",
       "    </tr>\n",
       "  </tbody>\n",
       "</table>\n",
       "</div>"
      ],
      "text/plain": [
       "             is_nyc  opioid_burden  opioid_burden_rate_per_100k  \\\n",
       "county_name                                                       \n",
       "Bronx          True           7191                   484.968684   \n",
       "Kings          True           6610                   250.243161   \n",
       "New York       True           5520                   338.541373   \n",
       "Queens         True           3152                   136.561941   \n",
       "Richmond       True           1639                   342.191986   \n",
       "\n",
       "             overdose_deaths  overdose_rate_per_100k  \n",
       "county_name                                           \n",
       "Bronx                    342                    23.9  \n",
       "Kings                    278                    10.8  \n",
       "New York                 248                    15.2  \n",
       "Queens                   192                     8.4  \n",
       "Richmond                 102                    21.4  "
      ]
     },
     "execution_count": 7,
     "metadata": {},
     "output_type": "execute_result"
    }
   ],
   "source": [
    "county_df[county_df['is_nyc']]"
   ]
  },
  {
   "cell_type": "markdown",
   "metadata": {},
   "source": [
    "Pretty suggestive. Of course, the relationship may fall apart at the zip code level,\n",
    "but this is basically enough to work with—opioid burden seems to have something to do with OD\n",
    "deaths (of course it does!).\n",
    "\n",
    "This means we can go ahead and figure out if OTP overconcentration is justified by opioid burden stats..."
   ]
  },
  {
   "cell_type": "code",
   "execution_count": 4,
   "metadata": {},
   "outputs": [
    {
     "data": {
      "text/html": [
       "<div>\n",
       "<style scoped>\n",
       "    .dataframe tbody tr th:only-of-type {\n",
       "        vertical-align: middle;\n",
       "    }\n",
       "\n",
       "    .dataframe tbody tr th {\n",
       "        vertical-align: top;\n",
       "    }\n",
       "\n",
       "    .dataframe thead th {\n",
       "        text-align: right;\n",
       "    }\n",
       "</style>\n",
       "<table border=\"1\" class=\"dataframe\">\n",
       "  <thead>\n",
       "    <tr style=\"text-align: right;\">\n",
       "      <th></th>\n",
       "      <th>0</th>\n",
       "      <th>1</th>\n",
       "      <th>2</th>\n",
       "    </tr>\n",
       "  </thead>\n",
       "  <tbody>\n",
       "    <tr>\n",
       "      <th>borough_name</th>\n",
       "      <td>Bronx</td>\n",
       "      <td>Bronx</td>\n",
       "      <td>Bronx</td>\n",
       "    </tr>\n",
       "    <tr>\n",
       "      <th>year</th>\n",
       "      <td>2010-01-01 00:00:00</td>\n",
       "      <td>2011-01-01 00:00:00</td>\n",
       "      <td>2012-01-01 00:00:00</td>\n",
       "    </tr>\n",
       "    <tr>\n",
       "      <th>deaths</th>\n",
       "      <td>71</td>\n",
       "      <td>93</td>\n",
       "      <td>109</td>\n",
       "    </tr>\n",
       "    <tr>\n",
       "      <th>total_population</th>\n",
       "      <td>1386929</td>\n",
       "      <td>1396954</td>\n",
       "      <td>1411087</td>\n",
       "    </tr>\n",
       "    <tr>\n",
       "      <th>overdose_rate_per_100k</th>\n",
       "      <td>5.1</td>\n",
       "      <td>6.7</td>\n",
       "      <td>7.7</td>\n",
       "    </tr>\n",
       "  </tbody>\n",
       "</table>\n",
       "</div>"
      ],
      "text/plain": [
       "                                          0                    1  \\\n",
       "borough_name                          Bronx                Bronx   \n",
       "year                    2010-01-01 00:00:00  2011-01-01 00:00:00   \n",
       "deaths                                   71                   93   \n",
       "total_population                    1386929              1396954   \n",
       "overdose_rate_per_100k                  5.1                  6.7   \n",
       "\n",
       "                                          2  \n",
       "borough_name                          Bronx  \n",
       "year                    2012-01-01 00:00:00  \n",
       "deaths                                  109  \n",
       "total_population                    1411087  \n",
       "overdose_rate_per_100k                  7.7  "
      ]
     },
     "execution_count": 4,
     "metadata": {},
     "output_type": "execute_result"
    }
   ],
   "source": [
    "# 1 Vet \"opioid burden\" as directionally correct with deaths\n",
    "# Agg zip-level opioid burdens and compare to county level opioid deaths\n",
    "\n",
    "sql = \"\"\"\n",
    "select \n",
    "    borough_name,\n",
    "    year,\n",
    "    deaths, \n",
    "    total_population,\n",
    "    rate_per_100k as overdose_rate_per_100k\n",
    "from ny_county_od_trend\n",
    "where is_nyc\n",
    "\"\"\"\n",
    "trend_df = pd.read_sql(sql, con=db_url)\n",
    "trend_df['year'] = pd.to_datetime(trend_df['year'], format='%Y')\n",
    "trend_df.head(3).T"
   ]
  },
  {
   "cell_type": "code",
   "execution_count": 5,
   "metadata": {},
   "outputs": [
    {
     "data": {
      "application/vnd.vegalite.v4+json": {
       "$schema": "https://vega.github.io/schema/vega-lite/v4.17.0.json",
       "config": {
        "view": {
         "continuousHeight": 300,
         "continuousWidth": 400
        }
       },
       "data": {
        "name": "data-941027e8b3c2a0cbde6d8ca0c0218ec9"
       },
       "datasets": {
        "data-941027e8b3c2a0cbde6d8ca0c0218ec9": [
         {
          "borough_name": "Bronx",
          "deaths": 71,
          "overdose_rate_per_100k": 5.1,
          "total_population": 1386929,
          "year": "2010-01-01T00:00:00"
         },
         {
          "borough_name": "Bronx",
          "deaths": 93,
          "overdose_rate_per_100k": 6.7,
          "total_population": 1396954,
          "year": "2011-01-01T00:00:00"
         },
         {
          "borough_name": "Bronx",
          "deaths": 109,
          "overdose_rate_per_100k": 7.7,
          "total_population": 1411087,
          "year": "2012-01-01T00:00:00"
         },
         {
          "borough_name": "Bronx",
          "deaths": 105,
          "overdose_rate_per_100k": 7.4,
          "total_population": 1421498,
          "year": "2013-01-01T00:00:00"
         },
         {
          "borough_name": "Bronx",
          "deaths": 102,
          "overdose_rate_per_100k": 7.1,
          "total_population": 1430474,
          "year": "2014-01-01T00:00:00"
         },
         {
          "borough_name": "Bronx",
          "deaths": 175,
          "overdose_rate_per_100k": 12.2,
          "total_population": 1439480,
          "year": "2015-01-01T00:00:00"
         },
         {
          "borough_name": "Bronx",
          "deaths": 266,
          "overdose_rate_per_100k": 18.4,
          "total_population": 1443678,
          "year": "2016-01-01T00:00:00"
         },
         {
          "borough_name": "Bronx",
          "deaths": 282,
          "overdose_rate_per_100k": 19.6,
          "total_population": 1439956,
          "year": "2017-01-01T00:00:00"
         },
         {
          "borough_name": "Bronx",
          "deaths": 313,
          "overdose_rate_per_100k": 21.9,
          "total_population": 1432316,
          "year": "2018-01-01T00:00:00"
         },
         {
          "borough_name": "Bronx",
          "deaths": 342,
          "overdose_rate_per_100k": 23.9,
          "total_population": 1432316,
          "year": "2019-01-01T00:00:00"
         },
         {
          "borough_name": "Brooklyn",
          "deaths": 130,
          "overdose_rate_per_100k": 5.2,
          "total_population": 2509954,
          "year": "2010-01-01T00:00:00"
         },
         {
          "borough_name": "Brooklyn",
          "deaths": 137,
          "overdose_rate_per_100k": 5.4,
          "total_population": 2540918,
          "year": "2011-01-01T00:00:00"
         },
         {
          "borough_name": "Brooklyn",
          "deaths": 141,
          "overdose_rate_per_100k": 5.5,
          "total_population": 2568538,
          "year": "2012-01-01T00:00:00"
         },
         {
          "borough_name": "Brooklyn",
          "deaths": 126,
          "overdose_rate_per_100k": 4.9,
          "total_population": 2587759,
          "year": "2013-01-01T00:00:00"
         },
         {
          "borough_name": "Brooklyn",
          "deaths": 163,
          "overdose_rate_per_100k": 6.3,
          "total_population": 2601527,
          "year": "2014-01-01T00:00:00"
         },
         {
          "borough_name": "Brooklyn",
          "deaths": 197,
          "overdose_rate_per_100k": 7.6,
          "total_population": 2608797,
          "year": "2015-01-01T00:00:00"
         },
         {
          "borough_name": "Brooklyn",
          "deaths": 270,
          "overdose_rate_per_100k": 10.4,
          "total_population": 2608146,
          "year": "2016-01-01T00:00:00"
         },
         {
          "borough_name": "Brooklyn",
          "deaths": 292,
          "overdose_rate_per_100k": 11.3,
          "total_population": 2594357,
          "year": "2017-01-01T00:00:00"
         },
         {
          "borough_name": "Brooklyn",
          "deaths": 218,
          "overdose_rate_per_100k": 8.4,
          "total_population": 2580088,
          "year": "2018-01-01T00:00:00"
         },
         {
          "borough_name": "Brooklyn",
          "deaths": 278,
          "overdose_rate_per_100k": 10.8,
          "total_population": 2580088,
          "year": "2019-01-01T00:00:00"
         },
         {
          "borough_name": "Manhattan",
          "deaths": 50,
          "overdose_rate_per_100k": 3.1,
          "total_population": 1589041,
          "year": "2010-01-01T00:00:00"
         },
         {
          "borough_name": "Manhattan",
          "deaths": 64,
          "overdose_rate_per_100k": 4,
          "total_population": 1608717,
          "year": "2011-01-01T00:00:00"
         },
         {
          "borough_name": "Manhattan",
          "deaths": 109,
          "overdose_rate_per_100k": 6.7,
          "total_population": 1624573,
          "year": "2012-01-01T00:00:00"
         },
         {
          "borough_name": "Manhattan",
          "deaths": 94,
          "overdose_rate_per_100k": 5.8,
          "total_population": 1628379,
          "year": "2013-01-01T00:00:00"
         },
         {
          "borough_name": "Manhattan",
          "deaths": 106,
          "overdose_rate_per_100k": 6.5,
          "total_population": 1631733,
          "year": "2014-01-01T00:00:00"
         },
         {
          "borough_name": "Manhattan",
          "deaths": 113,
          "overdose_rate_per_100k": 6.9,
          "total_population": 1637327,
          "year": "2015-01-01T00:00:00"
         },
         {
          "borough_name": "Manhattan",
          "deaths": 200,
          "overdose_rate_per_100k": 12.2,
          "total_population": 1636721,
          "year": "2016-01-01T00:00:00"
         },
         {
          "borough_name": "Manhattan",
          "deaths": 191,
          "overdose_rate_per_100k": 11.7,
          "total_population": 1632337,
          "year": "2017-01-01T00:00:00"
         },
         {
          "borough_name": "Manhattan",
          "deaths": 204,
          "overdose_rate_per_100k": 12.5,
          "total_population": 1632393,
          "year": "2018-01-01T00:00:00"
         },
         {
          "borough_name": "Manhattan",
          "deaths": 248,
          "overdose_rate_per_100k": 15.2,
          "total_population": 1632393,
          "year": "2019-01-01T00:00:00"
         },
         {
          "borough_name": "Queens",
          "deaths": 87,
          "overdose_rate_per_100k": 3.9,
          "total_population": 2234574,
          "year": "2010-01-01T00:00:00"
         },
         {
          "borough_name": "Queens",
          "deaths": 90,
          "overdose_rate_per_100k": 4,
          "total_population": 2255261,
          "year": "2011-01-01T00:00:00"
         },
         {
          "borough_name": "Queens",
          "deaths": 94,
          "overdose_rate_per_100k": 4.1,
          "total_population": 2271920,
          "year": "2012-01-01T00:00:00"
         },
         {
          "borough_name": "Queens",
          "deaths": 120,
          "overdose_rate_per_100k": 5.2,
          "total_population": 2286788,
          "year": "2013-01-01T00:00:00"
         },
         {
          "borough_name": "Queens",
          "deaths": 113,
          "overdose_rate_per_100k": 4.9,
          "total_population": 2298234,
          "year": "2014-01-01T00:00:00"
         },
         {
          "borough_name": "Queens",
          "deaths": 118,
          "overdose_rate_per_100k": 5.1,
          "total_population": 2305252,
          "year": "2015-01-01T00:00:00"
         },
         {
          "borough_name": "Queens",
          "deaths": 191,
          "overdose_rate_per_100k": 8.3,
          "total_population": 2306249,
          "year": "2016-01-01T00:00:00"
         },
         {
          "borough_name": "Queens",
          "deaths": 219,
          "overdose_rate_per_100k": 9.5,
          "total_population": 2295226,
          "year": "2017-01-01T00:00:00"
         },
         {
          "borough_name": "Queens",
          "deaths": 186,
          "overdose_rate_per_100k": 8.2,
          "total_population": 2275286,
          "year": "2018-01-01T00:00:00"
         },
         {
          "borough_name": "Queens",
          "deaths": 192,
          "overdose_rate_per_100k": 8.4,
          "total_population": 2275286,
          "year": "2019-01-01T00:00:00"
         },
         {
          "borough_name": "Staten Island",
          "deaths": 47,
          "overdose_rate_per_100k": 10,
          "total_population": 469607,
          "year": "2010-01-01T00:00:00"
         },
         {
          "borough_name": "Staten Island",
          "deaths": 66,
          "overdose_rate_per_100k": 14,
          "total_population": 471014,
          "year": "2011-01-01T00:00:00"
         },
         {
          "borough_name": "Staten Island",
          "deaths": 67,
          "overdose_rate_per_100k": 14.2,
          "total_population": 470597,
          "year": "2012-01-01T00:00:00"
         },
         {
          "borough_name": "Staten Island",
          "deaths": 61,
          "overdose_rate_per_100k": 12.9,
          "total_population": 471783,
          "year": "2013-01-01T00:00:00"
         },
         {
          "borough_name": "Staten Island",
          "deaths": 73,
          "overdose_rate_per_100k": 15.5,
          "total_population": 471899,
          "year": "2014-01-01T00:00:00"
         },
         {
          "borough_name": "Staten Island",
          "deaths": 65,
          "overdose_rate_per_100k": 13.8,
          "total_population": 472301,
          "year": "2015-01-01T00:00:00"
         },
         {
          "borough_name": "Staten Island",
          "deaths": 106,
          "overdose_rate_per_100k": 22.4,
          "total_population": 474160,
          "year": "2016-01-01T00:00:00"
         },
         {
          "borough_name": "Staten Island",
          "deaths": 103,
          "overdose_rate_per_100k": 21.6,
          "total_population": 475819,
          "year": "2017-01-01T00:00:00"
         },
         {
          "borough_name": "Staten Island",
          "deaths": 113,
          "overdose_rate_per_100k": 23.7,
          "total_population": 476531,
          "year": "2018-01-01T00:00:00"
         },
         {
          "borough_name": "Staten Island",
          "deaths": 102,
          "overdose_rate_per_100k": 21.4,
          "total_population": 476531,
          "year": "2019-01-01T00:00:00"
         }
        ]
       },
       "encoding": {
        "color": {
         "field": "borough_name",
         "type": "nominal"
        },
        "x": {
         "axis": {
          "format": "%Y"
         },
         "field": "year",
         "type": "temporal"
        },
        "y": {
         "field": "deaths",
         "type": "quantitative"
        }
       },
       "height": 500,
       "mark": "line",
       "width": 500
      },
      "text/plain": [
       "<VegaLite 4 object>\n",
       "\n",
       "If you see this message, it means the renderer has not been properly enabled\n",
       "for the frontend that you are using. For more information, see\n",
       "https://altair-viz.github.io/user_guide/troubleshooting.html\n"
      ]
     },
     "execution_count": 5,
     "metadata": {},
     "output_type": "execute_result"
    }
   ],
   "source": [
    "(altair.Chart(trend_df)\n",
    "    .properties(height=500, width=500)\n",
    "    .mark_line()\n",
    "    .encode(\n",
    "        x=altair.X('year', axis=altair.Axis(format='%Y')), \n",
    "        y='deaths',   # overdose_rate_per_100k\n",
    "        color='borough_name'\n",
    "    )\n",
    "\n",
    ")"
   ]
  },
  {
   "cell_type": "code",
   "execution_count": null,
   "metadata": {},
   "outputs": [],
   "source": []
  },
  {
   "cell_type": "code",
   "execution_count": null,
   "metadata": {},
   "outputs": [],
   "source": []
  }
 ],
 "metadata": {
  "kernelspec": {
   "display_name": "Python 3.9.13 ('harlem')",
   "language": "python",
   "name": "python3"
  },
  "language_info": {
   "codemirror_mode": {
    "name": "ipython",
    "version": 3
   },
   "file_extension": ".py",
   "mimetype": "text/x-python",
   "name": "python",
   "nbconvert_exporter": "python",
   "pygments_lexer": "ipython3",
   "version": "3.9.13"
  },
  "orig_nbformat": 4,
  "vscode": {
   "interpreter": {
    "hash": "49d825b50107e96a5ed1bf6f9cafb24e664392985383389147db9c1018c567a7"
   }
  }
 },
 "nbformat": 4,
 "nbformat_minor": 2
}
