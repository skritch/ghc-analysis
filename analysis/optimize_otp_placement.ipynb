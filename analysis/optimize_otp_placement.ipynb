{
 "cells": [
  {
   "cell_type": "code",
   "execution_count": 1,
   "metadata": {},
   "outputs": [],
   "source": [
    "import os\n",
    "import matplotlib.pyplot as plt\n",
    "import numpy as np\n",
    "import scipy.stats as stats\n",
    "import scipy.sparse\n",
    "import pandas as pd\n",
    "import altair\n",
    "import seaborn\n",
    "RANDOM_SEED = 511\n",
    "rng = np.random.default_rng(RANDOM_SEED)\n",
    "seaborn.set_theme(style=\"darkgrid\")\n",
    "altair.renderers.enable('mimetype')\n",
    "db_url = os.getenv('DB_URL')"
   ]
  },
  {
   "cell_type": "code",
   "execution_count": 142,
   "metadata": {},
   "outputs": [
    {
     "data": {
      "text/html": [
       "<div>\n",
       "<style scoped>\n",
       "    .dataframe tbody tr th:only-of-type {\n",
       "        vertical-align: middle;\n",
       "    }\n",
       "\n",
       "    .dataframe tbody tr th {\n",
       "        vertical-align: top;\n",
       "    }\n",
       "\n",
       "    .dataframe thead th {\n",
       "        text-align: right;\n",
       "    }\n",
       "</style>\n",
       "<table border=\"1\" class=\"dataframe\">\n",
       "  <thead>\n",
       "    <tr style=\"text-align: right;\">\n",
       "      <th>i</th>\n",
       "      <th>0</th>\n",
       "      <th>1</th>\n",
       "      <th>2</th>\n",
       "    </tr>\n",
       "  </thead>\n",
       "  <tbody>\n",
       "    <tr>\n",
       "      <th>zip_code</th>\n",
       "      <td>10001</td>\n",
       "      <td>10002</td>\n",
       "      <td>10003</td>\n",
       "    </tr>\n",
       "    <tr>\n",
       "      <th>otp_capacity</th>\n",
       "      <td>1000</td>\n",
       "      <td>1473</td>\n",
       "      <td>0</td>\n",
       "    </tr>\n",
       "    <tr>\n",
       "      <th>otp_patients</th>\n",
       "      <td>199</td>\n",
       "      <td>110</td>\n",
       "      <td>115</td>\n",
       "    </tr>\n",
       "  </tbody>\n",
       "</table>\n",
       "</div>"
      ],
      "text/plain": [
       "i                 0      1      2\n",
       "zip_code      10001  10002  10003\n",
       "otp_capacity   1000   1473      0\n",
       "otp_patients    199    110    115"
      ]
     },
     "execution_count": 142,
     "metadata": {},
     "output_type": "execute_result"
    }
   ],
   "source": [
    "zip_code_sql = \"\"\"\n",
    "select\n",
    "    (row_number() over (order by zip_code)) - 1 as i,\n",
    "    zip_code,\n",
    "    coalesce(otp_capacity, 0)::int as otp_capacity,\n",
    "    coalesce(patient_admissions_3_2019, 0)::int as otp_patients\n",
    "from zip_code_otp_analysis\n",
    "order by zip_code\n",
    "\"\"\"\n",
    "\n",
    "zip_df = pd.read_sql(zip_code_sql, con=db_url)\n",
    "zip_df = zip_df.set_index('i')\n",
    "zip_df.head(3).T"
   ]
  },
  {
   "cell_type": "code",
   "execution_count": 147,
   "metadata": {},
   "outputs": [
    {
     "data": {
      "text/plain": [
       "otp_capacity    12000.0\n",
       "otp_patients    11541.0\n",
       "dtype: float64"
      ]
     },
     "execution_count": 147,
     "metadata": {},
     "output_type": "execute_result"
    }
   ],
   "source": [
    "zip_df['otp_capacity'] = zip_df['otp_capacity'] * 12000 / zip_df['otp_capacity'].sum()\n",
    "zip_df[['otp_capacity', 'otp_patients']].sum()"
   ]
  },
  {
   "cell_type": "code",
   "execution_count": 121,
   "metadata": {},
   "outputs": [
    {
     "data": {
      "text/html": [
       "<div>\n",
       "<style scoped>\n",
       "    .dataframe tbody tr th:only-of-type {\n",
       "        vertical-align: middle;\n",
       "    }\n",
       "\n",
       "    .dataframe tbody tr th {\n",
       "        vertical-align: top;\n",
       "    }\n",
       "\n",
       "    .dataframe thead th {\n",
       "        text-align: right;\n",
       "    }\n",
       "</style>\n",
       "<table border=\"1\" class=\"dataframe\">\n",
       "  <thead>\n",
       "    <tr style=\"text-align: right;\">\n",
       "      <th></th>\n",
       "      <th>0</th>\n",
       "      <th>1</th>\n",
       "      <th>2</th>\n",
       "    </tr>\n",
       "  </thead>\n",
       "  <tbody>\n",
       "    <tr>\n",
       "      <th>from_i</th>\n",
       "      <td>171</td>\n",
       "      <td>171</td>\n",
       "      <td>171</td>\n",
       "    </tr>\n",
       "    <tr>\n",
       "      <th>to_i</th>\n",
       "      <td>171</td>\n",
       "      <td>99</td>\n",
       "      <td>98</td>\n",
       "    </tr>\n",
       "    <tr>\n",
       "      <th>travel_time</th>\n",
       "      <td>0</td>\n",
       "      <td>1712</td>\n",
       "      <td>1458</td>\n",
       "    </tr>\n",
       "  </tbody>\n",
       "</table>\n",
       "</div>"
      ],
      "text/plain": [
       "               0     1     2\n",
       "from_i       171   171   171\n",
       "to_i         171    99    98\n",
       "travel_time    0  1712  1458"
      ]
     },
     "execution_count": 121,
     "metadata": {},
     "output_type": "execute_result"
    }
   ],
   "source": [
    "\n",
    "travel_time_sql = \"\"\"\n",
    "with zips as (\n",
    "    select\n",
    "        (row_number() over (order by zip_code)) - 1 as i,\n",
    "        zip_code\n",
    "    from zip_code_otp_analysis\n",
    ")\n",
    "select\n",
    "    z1.i as from_i,\n",
    "    z2.i as to_i,\n",
    "    travel_time\n",
    "from zip_code_distances\n",
    "    join zips as z1 on from_zip_code = z1.zip_code\n",
    "    join zips as z2 on to_zip_code = z2.zip_code\n",
    "\"\"\"\n",
    "\n",
    "time_df = pd.read_sql(travel_time_sql, con=db_url)\\\n",
    "    .astype(np.int32)\n",
    "time_df.head(3).T\n"
   ]
  },
  {
   "attachments": {},
   "cell_type": "markdown",
   "metadata": {},
   "source": [
    "## Optimize Assignment of Patients to Current Capacity\n",
    "\n",
    "Note: capacity greatly exceeds known patient count, which makes this relatively easy!\n",
    "\n",
    "First, linearly in time..."
   ]
  },
  {
   "cell_type": "code",
   "execution_count": 9,
   "metadata": {},
   "outputs": [],
   "source": [
    "from ortools.linear_solver import pywraplp\n",
    "from ortools.init import pywrapinit"
   ]
  },
  {
   "cell_type": "code",
   "execution_count": 163,
   "metadata": {},
   "outputs": [
    {
     "name": "stdout",
     "output_type": "stream",
     "text": [
      "Number of variables = 6536\n",
      "Number of constraints = 210\n"
     ]
    }
   ],
   "source": [
    "solver = pywraplp.Solver.CreateSolver('SCIP')\n",
    "\n",
    "p = zip_df['otp_patients'].values\n",
    "c = zip_df['otp_capacity'].values\n",
    "t = scipy.sparse.coo_array((\n",
    "    time_df['travel_time'].values, \n",
    "    (time_df['from_i'].values, time_df['to_i'].values)\n",
    ")).todense()\n",
    "\n",
    "# Vector of variables: flow from source i to sink = pc_ij\n",
    "pc = np.array([\n",
    "    [\n",
    "        solver.IntVar(0, int(p[i]), f'p{i}-c{j}')\n",
    "        if p[i] > 0 and c[j] > 0\n",
    "        else None\n",
    "        for j in range(len(p))\n",
    "    ]\n",
    "    for i in range(len(p))\n",
    "])\n",
    "print('Number of variables =', solver.NumVariables())\n",
    "\n",
    "# Constraint: sum_j pc_ij = p_i\n",
    "for i in range(len(p)):\n",
    "    if not any(pc[i, :]):\n",
    "        continue\n",
    "    constraint = sum(var for var in pc[i, :] if var is not None) == p[i]\n",
    "    solver.Add(constraint)\n",
    "\n",
    "# Constraint: sum_i pc_ij <= c_j\n",
    "for j in range(len(p)):\n",
    "    if not any(pc[:, j]):\n",
    "        continue\n",
    "    constraint = sum(var for var in pc[:, j] if var is not None) <= c[j]\n",
    "    solver.Add(constraint)\n",
    "\n",
    "print('Number of constraints =', solver.NumConstraints())\n",
    "\n",
    "# Minimize: sum_j pc_ij f(t_ij) \n",
    "# (Linear in time objective)\n",
    "costs = np.where(t / 60 > 15, (t / 60 - 15), 0)\n",
    "objective = sum(\n",
    "    pc[i, j] * (costs[i, j])\n",
    "    for i in range(len(p))\n",
    "    for j in range(len(p))\n",
    "    if pc[i, j] is not None\n",
    ")\n",
    "solver.Minimize(objective)"
   ]
  },
  {
   "cell_type": "code",
   "execution_count": 164,
   "metadata": {},
   "outputs": [
    {
     "name": "stdout",
     "output_type": "stream",
     "text": [
      "True\n"
     ]
    }
   ],
   "source": [
    "status = solver.Solve()\n",
    "print(status == pywraplp.Solver.OPTIMAL)"
   ]
  },
  {
   "cell_type": "code",
   "execution_count": 1,
   "metadata": {},
   "outputs": [
    {
     "ename": "NameError",
     "evalue": "name 'np' is not defined",
     "output_type": "error",
     "traceback": [
      "\u001b[0;31m---------------------------------------------------------------------------\u001b[0m",
      "\u001b[0;31mNameError\u001b[0m                                 Traceback (most recent call last)",
      "Cell \u001b[0;32mIn[1], line 1\u001b[0m\n\u001b[0;32m----> 1\u001b[0m solution \u001b[39m=\u001b[39m np\u001b[39m.\u001b[39marray([\n\u001b[1;32m      2\u001b[0m     [\n\u001b[1;32m      3\u001b[0m         v\u001b[39m.\u001b[39msolution_value() \u001b[39mif\u001b[39;00m v \u001b[39mis\u001b[39;00m \u001b[39mnot\u001b[39;00m \u001b[39mNone\u001b[39;00m \u001b[39melse\u001b[39;00m \u001b[39m0\u001b[39m\n\u001b[1;32m      4\u001b[0m         \u001b[39mfor\u001b[39;00m v \u001b[39min\u001b[39;00m row\n\u001b[1;32m      5\u001b[0m     ]\n\u001b[1;32m      6\u001b[0m     \u001b[39mfor\u001b[39;00m row \u001b[39min\u001b[39;00m pc\n\u001b[1;32m      7\u001b[0m ])\n\u001b[1;32m      8\u001b[0m \u001b[39mprint\u001b[39m((\u001b[39m~\u001b[39m(solution\u001b[39m.\u001b[39msum(axis\u001b[39m=\u001b[39m\u001b[39m1\u001b[39m) \u001b[39m==\u001b[39m p))\u001b[39m.\u001b[39msum())\n\u001b[1;32m      9\u001b[0m \u001b[39mprint\u001b[39m((\u001b[39m~\u001b[39m(solution\u001b[39m.\u001b[39msum(axis\u001b[39m=\u001b[39m\u001b[39m0\u001b[39m) \u001b[39m<\u001b[39m\u001b[39m=\u001b[39m c))\u001b[39m.\u001b[39msum())\n",
      "\u001b[0;31mNameError\u001b[0m: name 'np' is not defined"
     ]
    }
   ],
   "source": [
    "\n",
    "solution = np.array([\n",
    "    [\n",
    "        v.solution_value() if v is not None else 0\n",
    "        for v in row\n",
    "    ]\n",
    "    for row in pc\n",
    "])\n",
    "print((~(solution.sum(axis=1) == p)).sum())\n",
    "print((~(solution.sum(axis=0) <= c)).sum())\n",
    "# print(solution[0, :])\n",
    "# print(solution[:, 0])"
   ]
  },
  {
   "cell_type": "code",
   "execution_count": null,
   "metadata": {},
   "outputs": [],
   "source": []
  },
  {
   "cell_type": "code",
   "execution_count": null,
   "metadata": {},
   "outputs": [],
   "source": []
  },
  {
   "attachments": {},
   "cell_type": "markdown",
   "metadata": {},
   "source": [
    "Well, that was all pointless. If I want to measure how bad the current travel times are, I just need to\n",
    "look directly at the current travel times.\n",
    "\n",
    "* Optimize assignment of capacity? Just put it wherever the patients are.\n",
    "* No reason to think \"capacity\" actually lines up with total admissions...\n",
    "    * capacity and avg daily enrollment are quite correlated, admissions less so.\n",
    "* Why was total of avg daily enrollment = total of admissions? Are those the same somehow?\n",
    "    * wow, this SQL plugin is garbage, it just equaters columns with the same name.\n",
    "* Where is all the extra (unused) capacity?"
   ]
  },
  {
   "cell_type": "code",
   "execution_count": 12,
   "metadata": {},
   "outputs": [
    {
     "data": {
      "text/html": [
       "<div>\n",
       "<style scoped>\n",
       "    .dataframe tbody tr th:only-of-type {\n",
       "        vertical-align: middle;\n",
       "    }\n",
       "\n",
       "    .dataframe tbody tr th {\n",
       "        vertical-align: top;\n",
       "    }\n",
       "\n",
       "    .dataframe thead th {\n",
       "        text-align: right;\n",
       "    }\n",
       "</style>\n",
       "<table border=\"1\" class=\"dataframe\">\n",
       "  <thead>\n",
       "    <tr style=\"text-align: right;\">\n",
       "      <th></th>\n",
       "      <th>0</th>\n",
       "      <th>1</th>\n",
       "      <th>2</th>\n",
       "    </tr>\n",
       "  </thead>\n",
       "  <tbody>\n",
       "    <tr>\n",
       "      <th>program_number</th>\n",
       "      <td>6</td>\n",
       "      <td>7</td>\n",
       "      <td>8</td>\n",
       "    </tr>\n",
       "    <tr>\n",
       "      <th>program_name</th>\n",
       "      <td>Starting Point Clinic OTP</td>\n",
       "      <td>Fort Greene Clinic OTP</td>\n",
       "      <td>Kaleidoscope Clinic OTP</td>\n",
       "    </tr>\n",
       "    <tr>\n",
       "      <th>capacity</th>\n",
       "      <td>300.0</td>\n",
       "      <td>500.0</td>\n",
       "      <td>300.0</td>\n",
       "    </tr>\n",
       "    <tr>\n",
       "      <th>admissions</th>\n",
       "      <td>224</td>\n",
       "      <td>232</td>\n",
       "      <td>172</td>\n",
       "    </tr>\n",
       "    <tr>\n",
       "      <th>avg_daily_enrollment</th>\n",
       "      <td>335.0</td>\n",
       "      <td>504.0</td>\n",
       "      <td>330.0</td>\n",
       "    </tr>\n",
       "  </tbody>\n",
       "</table>\n",
       "</div>"
      ],
      "text/plain": [
       "                                              0                       1  \\\n",
       "program_number                                6                       7   \n",
       "program_name          Starting Point Clinic OTP  Fort Greene Clinic OTP   \n",
       "capacity                                  300.0                   500.0   \n",
       "admissions                                  224                     232   \n",
       "avg_daily_enrollment                      335.0                   504.0   \n",
       "\n",
       "                                            2  \n",
       "program_number                              8  \n",
       "program_name          Kaleidoscope Clinic OTP  \n",
       "capacity                                300.0  \n",
       "admissions                                172  \n",
       "avg_daily_enrollment                    330.0  "
      ]
     },
     "execution_count": 12,
     "metadata": {},
     "output_type": "execute_result"
    }
   ],
   "source": [
    "sql = \"\"\"\n",
    "select\n",
    "    program_number,\n",
    "    program_name,\n",
    "    current_certified_capacity as capacity,\n",
    "    coalesce(total_admissions_3_2019, 0) as admissions,\n",
    "    avg_daily_enrollment_2019 as avg_daily_enrollment\n",
    "from programs_analysis\n",
    "    join programs using (program_number)\n",
    "where program_category = 'Opioid Treatment Program'\n",
    "\"\"\"\n",
    "program_df = pd.read_sql(sql, con=db_url)\n",
    "program_df.head(3).T"
   ]
  },
  {
   "cell_type": "code",
   "execution_count": 13,
   "metadata": {},
   "outputs": [
    {
     "data": {
      "image/png": "[encoded data removed]",
      "text/plain": [
       "<Figure size 750x750 with 9 Axes>"
      ]
     },
     "metadata": {},
     "output_type": "display_data"
    }
   ],
   "source": [
    "p = seaborn.pairplot(\n",
    "    program_df[['capacity', 'admissions', 'avg_daily_enrollment']],\n",
    "    corner=True\n",
    ");\n"
   ]
  },
  {
   "cell_type": "code",
   "execution_count": 22,
   "metadata": {},
   "outputs": [
    {
     "name": "stdout",
     "output_type": "stream",
     "text": [
      "(1836, 4)\n"
     ]
    },
    {
     "data": {
      "text/html": [
       "<div>\n",
       "<style scoped>\n",
       "    .dataframe tbody tr th:only-of-type {\n",
       "        vertical-align: middle;\n",
       "    }\n",
       "\n",
       "    .dataframe tbody tr th {\n",
       "        vertical-align: top;\n",
       "    }\n",
       "\n",
       "    .dataframe thead th {\n",
       "        text-align: right;\n",
       "    }\n",
       "</style>\n",
       "<table border=\"1\" class=\"dataframe\">\n",
       "  <thead>\n",
       "    <tr style=\"text-align: right;\">\n",
       "      <th></th>\n",
       "      <th>0</th>\n",
       "      <th>1</th>\n",
       "      <th>2</th>\n",
       "    </tr>\n",
       "  </thead>\n",
       "  <tbody>\n",
       "    <tr>\n",
       "      <th>zip_code</th>\n",
       "      <td>10010</td>\n",
       "      <td>11231</td>\n",
       "      <td>11238</td>\n",
       "    </tr>\n",
       "    <tr>\n",
       "      <th>travel_time_minutes</th>\n",
       "      <td>16.45</td>\n",
       "      <td>36.083333</td>\n",
       "      <td>49.0</td>\n",
       "    </tr>\n",
       "    <tr>\n",
       "      <th>admissions</th>\n",
       "      <td>3</td>\n",
       "      <td>6</td>\n",
       "      <td>6</td>\n",
       "    </tr>\n",
       "    <tr>\n",
       "      <th>f_admissions</th>\n",
       "      <td>0.00026</td>\n",
       "      <td>0.00052</td>\n",
       "      <td>0.00052</td>\n",
       "    </tr>\n",
       "  </tbody>\n",
       "</table>\n",
       "</div>"
      ],
      "text/plain": [
       "                           0          1        2\n",
       "zip_code               10010      11231    11238\n",
       "travel_time_minutes    16.45  36.083333     49.0\n",
       "admissions                 3          6        6\n",
       "f_admissions         0.00026    0.00052  0.00052"
      ]
     },
     "execution_count": 22,
     "metadata": {},
     "output_type": "execute_result"
    }
   ],
   "source": [
    "sql = \"\"\"\n",
    "select\n",
    "    address_zip_code as zip_code,\n",
    "    travel_time / 60 as travel_time_minutes,\n",
    "    sum(coalesce(total_admissions, 3)) as admissions,\n",
    "    sum(coalesce(total_admissions, 3))::float / sum(sum(coalesce(total_admissions, 3))) over () as f_admissions\n",
    "from program_admissions_2019\n",
    "    join programs using (program_number)\n",
    "    join zip_code_distances on programs.address_zip_code = to_zip_code\n",
    "        and patient_zip_code = from_zip_code\n",
    "where program_category = 'Opioid Treatment Program'\n",
    "-- and borough_district_code in (110, 111)\n",
    "group by 1, 2\n",
    "\"\"\"\n",
    "travel_df = pd.read_sql(sql, con=db_url)\n",
    "print(travel_df.shape)\n",
    "travel_df.head(3).T"
   ]
  },
  {
   "cell_type": "code",
   "execution_count": 24,
   "metadata": {},
   "outputs": [
    {
     "data": {
      "text/plain": [
       "''"
      ]
     },
     "execution_count": 24,
     "metadata": {},
     "output_type": "execute_result"
    },
    {
     "data": {
      "image/png": "[encoded data removed]",
      "text/plain": [
       "<Figure size 640x480 with 1 Axes>"
      ]
     },
     "metadata": {},
     "output_type": "display_data"
    }
   ],
   "source": [
    "travel_df.plot(\n",
    "    kind='hist', \n",
    "    y='travel_time_minutes',\n",
    "    bins=50,\n",
    "    cumulative=-1,\n",
    "    weights=travel_df['f_admissions'],\n",
    ")\n",
    ";"
   ]
  },
  {
   "cell_type": "code",
   "execution_count": 13,
   "metadata": {},
   "outputs": [
    {
     "data": {
      "text/html": [
       "<div>\n",
       "<style scoped>\n",
       "    .dataframe tbody tr th:only-of-type {\n",
       "        vertical-align: middle;\n",
       "    }\n",
       "\n",
       "    .dataframe tbody tr th {\n",
       "        vertical-align: top;\n",
       "    }\n",
       "\n",
       "    .dataframe thead th {\n",
       "        text-align: right;\n",
       "    }\n",
       "</style>\n",
       "<table border=\"1\" class=\"dataframe\">\n",
       "  <thead>\n",
       "    <tr style=\"text-align: right;\">\n",
       "      <th></th>\n",
       "      <th>zip_code</th>\n",
       "      <th>travel_time_minutes</th>\n",
       "      <th>admissions</th>\n",
       "    </tr>\n",
       "  </thead>\n",
       "  <tbody>\n",
       "    <tr>\n",
       "      <th>80</th>\n",
       "      <td>10027</td>\n",
       "      <td>56.783333</td>\n",
       "      <td>3</td>\n",
       "    </tr>\n",
       "    <tr>\n",
       "      <th>81</th>\n",
       "      <td>10027</td>\n",
       "      <td>59.666667</td>\n",
       "      <td>3</td>\n",
       "    </tr>\n",
       "    <tr>\n",
       "      <th>256</th>\n",
       "      <td>10035</td>\n",
       "      <td>60.133333</td>\n",
       "      <td>3</td>\n",
       "    </tr>\n",
       "    <tr>\n",
       "      <th>134</th>\n",
       "      <td>10029</td>\n",
       "      <td>61.583333</td>\n",
       "      <td>3</td>\n",
       "    </tr>\n",
       "    <tr>\n",
       "      <th>135</th>\n",
       "      <td>10029</td>\n",
       "      <td>65.216667</td>\n",
       "      <td>3</td>\n",
       "    </tr>\n",
       "  </tbody>\n",
       "</table>\n",
       "</div>"
      ],
      "text/plain": [
       "    zip_code  travel_time_minutes  admissions\n",
       "80     10027            56.783333           3\n",
       "81     10027            59.666667           3\n",
       "256    10035            60.133333           3\n",
       "134    10029            61.583333           3\n",
       "135    10029            65.216667           3"
      ]
     },
     "execution_count": 13,
     "metadata": {},
     "output_type": "execute_result"
    }
   ],
   "source": [
    "travel_df.sort_values('travel_time_minutes').tail(5)"
   ]
  },
  {
   "cell_type": "code",
   "execution_count": null,
   "metadata": {},
   "outputs": [],
   "source": []
  }
 ],
 "metadata": {
  "kernelspec": {
   "display_name": ".virtualenv",
   "language": "python",
   "name": "python3"
  },
  "language_info": {
   "codemirror_mode": {
    "name": "ipython",
    "version": 3
   },
   "file_extension": ".py",
   "mimetype": "text/x-python",
   "name": "python",
   "nbconvert_exporter": "python",
   "pygments_lexer": "ipython3",
   "version": "3.10.5 (main, Oct 31 2022, 21:57:04) [Clang 12.0.5 (clang-1205.0.22.9)]"
  },
  "orig_nbformat": 4,
  "vscode": {
   "interpreter": {
    "hash": "ee2ef8a8d3c61a83d5ae9a191a73ed92a63a8b007e24e304d810c055ff9c4660"
   }
  }
 },
 "nbformat": 4,
 "nbformat_minor": 2
}
