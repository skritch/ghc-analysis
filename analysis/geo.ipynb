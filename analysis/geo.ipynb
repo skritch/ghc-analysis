{
 "cells": [
  {
   "cell_type": "code",
   "execution_count": null,
   "metadata": {},
   "outputs": [],
   "source": [
    "import os\n",
    "import matplotlib.pyplot as plt\n",
    "import numpy as np\n",
    "import scipy.stats as stats\n",
    "import pandas as pd\n",
    "import altair\n",
    "import seaborn\n",
    "import geopandas\n",
    "import geoplot\n",
    "RANDOM_SEED = 511\n",
    "rng = np.random.default_rng(RANDOM_SEED)\n",
    "seaborn.set_theme(style=\"darkgrid\")\n",
    "altair.renderers.enable('mimetype')\n",
    "db_url = os.getenv('DB_URL')\n",
    "%load_ext autoreload\n",
    "%autoreload 2"
   ]
  },
  {
   "cell_type": "code",
   "execution_count": null,
   "metadata": {},
   "outputs": [],
   "source": [
    "sql = \"\"\"\n",
    "    with transformed as (\n",
    "        SELECT \n",
    "            zipcode,\n",
    "            ST_Transform(ST_SetSRID(wkb_geometry, 102718), 4326) :: geography AS boundary\n",
    "        FROM zip_code_geometries\n",
    "    )\n",
    "    select\n",
    "        *,\n",
    "        ST_Centroid(boundary) AS centroid\n",
    "    from transformed\n",
    "\"\"\"\n",
    "import shapely.wkb\n",
    "zip_boundaries = geopandas.GeoDataFrame.from_postgis(\n",
    "    sql, db_url, \n",
    "    geom_col='boundary', index_col='zipcode')\n",
    "\n",
    "zip_boundaries['centroid'] = zip_boundaries['centroid'].apply(shapely.wkb.loads)\n",
    "print(zip_boundaries.shape)\n",
    "zip_boundaries.head(3).T"
   ]
  },
  {
   "cell_type": "code",
   "execution_count": null,
   "metadata": {},
   "outputs": [],
   "source": [
    "zip_centroids = zip_boundaries.set_geometry('centroid')"
   ]
  },
  {
   "cell_type": "code",
   "execution_count": null,
   "metadata": {},
   "outputs": [],
   "source": [
    "ax = zip_boundaries.boundary.plot(figsize=(12,8))\n",
    "zip_centroids.centroid.plot(ax=ax, markersize=0.5)\n"
   ]
  },
  {
   "cell_type": "code",
   "execution_count": null,
   "metadata": {},
   "outputs": [],
   "source": [
    "sql = \"\"\"\n",
    "    select\n",
    "        to_zip_code as zip_code,\n",
    "        travel_time / 60 as travel_time,\n",
    "        z.boundary\n",
    "    from zip_code_distances\n",
    "        left join zip_codes z on to_zip_code = z.zip_code\n",
    "    where from_zip_code = '10037'\n",
    "\"\"\"\n",
    "zip_travel_times = geopandas.GeoDataFrame.from_postgis(\n",
    "    sql, db_url, \n",
    "    geom_col='boundary', index_col='zip_code')\n",
    "\n",
    "zip_travel_times.head(3).T"
   ]
  },
  {
   "cell_type": "code",
   "execution_count": null,
   "metadata": {},
   "outputs": [],
   "source": [
    "zip_travel_times.explore(\n",
    "    column='travel_time'\n",
    ")"
   ]
  },
  {
   "cell_type": "code",
   "execution_count": null,
   "metadata": {},
   "outputs": [],
   "source": []
  }
 ],
 "metadata": {
  "kernelspec": {
   "display_name": "Python 3.10.5 ('.virtualenv': venv)",
   "language": "python",
   "name": "python3"
  },
  "language_info": {
   "codemirror_mode": {
    "name": "ipython",
    "version": 3
   },
   "file_extension": ".py",
   "mimetype": "text/x-python",
   "name": "python",
   "nbconvert_exporter": "python",
   "pygments_lexer": "ipython3",
   "version": "3.10.5"
  },
  "orig_nbformat": 4,
  "vscode": {
   "interpreter": {
    "hash": "ee2ef8a8d3c61a83d5ae9a191a73ed92a63a8b007e24e304d810c055ff9c4660"
   }
  }
 },
 "nbformat": 4,
 "nbformat_minor": 2
}
