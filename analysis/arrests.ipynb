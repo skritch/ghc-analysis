{
 "cells": [
  {
   "cell_type": "code",
   "execution_count": null,
   "metadata": {},
   "outputs": [],
   "source": [
    "import os\n",
    "import matplotlib.pyplot as plt\n",
    "import numpy as np\n",
    "import scipy.stats as stats\n",
    "import pandas as pd\n",
    "import altair\n",
    "import seaborn\n",
    "RANDOM_SEED = 511\n",
    "rng = np.random.default_rng(RANDOM_SEED)\n",
    "seaborn.set_theme(style=\"darkgrid\")\n",
    "altair.renderers.enable('mimetype')\n",
    "db_url = os.getenv('DB_URL')\n",
    "%load_ext autoreload\n",
    "%autoreload 2\n",
    "import geopandas\n",
    "import geoplot"
   ]
  },
  {
   "cell_type": "code",
   "execution_count": null,
   "metadata": {},
   "outputs": [],
   "source": [
    "## Felony arrests by census tract (larger than block)\n",
    "\n",
    "# By census tract\n",
    "sql = \"\"\"\n",
    "SELECT\n",
    "    boroct2020,\n",
    "    cdta_name,\n",
    "    borough_district_code,\n",
    "    boundary,\n",
    "    ct_arrests,\n",
    "    districts.district_name\n",
    "FROM census_tracts\n",
    "    JOIN districts USING (borough_district_code)\n",
    "    LEFT JOIN (\n",
    "        SELECT boroct2020, count(*) AS ct_arrests\n",
    "        FROM arrests\n",
    "        GROUP BY 1\n",
    "    ) AS a USING (boroct2020)\n",
    "\"\"\"\n",
    "\n",
    "# By block—slow!\n",
    "sql2 = \"\"\"\n",
    "SELECT\n",
    "    bctcb2020,\n",
    "    cdta_name,\n",
    "    borough_district_code,\n",
    "    boundary,\n",
    "    coalesce(ct_arrests, 0) as ct_arrests,\n",
    "    districts.district_name\n",
    "FROM census_blocks\n",
    "    JOIN districts USING (borough_district_code)\n",
    "    LEFT JOIN (\n",
    "        SELECT bctcb2020, count(*) AS ct_arrests\n",
    "        FROM arrests\n",
    "        WHERE distance_to_precinct_meters > 125\n",
    "        GROUP BY 1\n",
    "    ) AS a USING (bctcb2020)\n",
    "\"\"\"\n",
    "\n",
    "# df = geopandas.GeoDataFrame.from_postgis(sql, db_url, geom_col='boundary', index_col='boroct2020')\n",
    "df = geopandas.GeoDataFrame.from_postgis(sql2, db_url, geom_col='boundary', index_col='bctcb2020')\n",
    "\n",
    "print(df.shape)\n",
    "df.head(3).T"
   ]
  },
  {
   "cell_type": "code",
   "execution_count": null,
   "metadata": {},
   "outputs": [],
   "source": [
    "precinct_loc_sql = \"\"\"\n",
    "SELECT\n",
    "    precinct,\n",
    "    precinct_name,\n",
    "    full_address,\n",
    "    latitude, \n",
    "    longitude,\n",
    "    location\n",
    "FROM nypd_precincts\n",
    "\"\"\"\n",
    "precincts_locs_df = geopandas.GeoDataFrame.from_postgis(\n",
    "    precinct_loc_sql, db_url, \n",
    "    geom_col='location', index_col='precinct', \n",
    "    crs=df.crs\n",
    ")\n",
    "print(precincts_locs_df.shape)\n",
    "precincts_locs_df.head(3).T\n"
   ]
  },
  {
   "cell_type": "code",
   "execution_count": null,
   "metadata": {},
   "outputs": [],
   "source": [
    "precinect_geom_sql = \"\"\"\n",
    "SELECT\n",
    "    precinct,\n",
    "    precinct_name,\n",
    "    full_address,\n",
    "    boundary,\n",
    "    1 as indicator\n",
    "FROM nypd_precincts\n",
    "    join nypd_precinct_geometries using (precinct)\n",
    "\"\"\"\n",
    "precincts_geom_df = geopandas.GeoDataFrame.from_postgis(\n",
    "    precinect_geom_sql, db_url, \n",
    "    geom_col='boundary', index_col='precinct', \n",
    "    crs=df.crs\n",
    ")\n",
    "print(precincts_geom_df.shape)\n",
    "precincts_geom_df.head(3).T\n"
   ]
  },
  {
   "cell_type": "code",
   "execution_count": null,
   "metadata": {},
   "outputs": [],
   "source": [
    "otp_locs_sql = \"\"\"\n",
    "SELECT\n",
    "    program_number,\n",
    "    program_name,\n",
    "    _record_source,\n",
    "    capacity_estimate,\n",
    "    address_full,\n",
    "    program_status,\n",
    "    latitude, \n",
    "    longitude,\n",
    "    ST_SetSRID(ST_POINT(longitude, latitude), 4326) :: GEOGRAPHY AS location\n",
    "FROM programs\n",
    "WHERE program_category = 'Opioid Treatment Program'\n",
    "    AND latitude IS NOT NULL\n",
    "\n",
    "\"\"\"\n",
    "otp_locs_df = geopandas.GeoDataFrame.from_postgis(\n",
    "    otp_locs_sql, db_url, \n",
    "    geom_col='location', index_col='program_number', \n",
    "    crs=df.crs\n",
    ")\n",
    "print(otp_locs_df.shape)\n",
    "otp_locs_df.head(3).T\n"
   ]
  },
  {
   "cell_type": "code",
   "execution_count": null,
   "metadata": {},
   "outputs": [],
   "source": [
    "map = df.explore(\n",
    "    column='ct_arrests',\n",
    "    legend=True,\n",
    "    color='white',\n",
    "    style_kwds={'stroke': False}\n",
    ")\n",
    "precincts_locs_df.explore(m=map, marker_kwds={'radius': 2.5, 'color': 'blue', 'fill': True})\n",
    "otp_locs_df.explore(m=map, marker_kwds={'radius': 2.5, 'color': 'red', 'fill': True})\n"
   ]
  },
  {
   "cell_type": "code",
   "execution_count": null,
   "metadata": {},
   "outputs": [],
   "source": [
    "# OK: take arrests that happened within a, say, 100m radius of a precinct, and spread them evenly throughout the entire precinct.\n",
    "# In proportion to the area of each census * its fraction of arrests in the precinct. (Or, just to the precinct that contains the majority)\n",
    "# Need: precinct geographies; intersections of precinct geographies with \n",
    "\n",
    "\n",
    "sql = \"\"\"\n",
    "select *\n",
    "from arrests_by_month\n",
    "\"\"\"\n",
    "arrests_df = pd.read_sql(sql, con=db_url)\n",
    "arrests_df[\"month\"] = pd.to_datetime(arrests_df[\"month\"], utc=True)\n",
    "ct_cols = [c for c in arrests_df.columns if 'Arrests' in c and '1k' not in c and 'Felony' not in c]\n",
    "rate_cols = [c for c in arrests_df.columns if '1k' in c and 'Felony' not in c]\n",
    "\n",
    "print(arrests_df.shape)\n",
    "arrests_df.head(3).T"
   ]
  },
  {
   "cell_type": "code",
   "execution_count": null,
   "metadata": {},
   "outputs": [],
   "source": [
    "arrest_counts = (\n",
    "    arrests_df\n",
    "        # [arrests_df['borough_district_code'].isin([110, 111])]\n",
    "        .groupby('month')[rate_cols].sum()\n",
    ")\n",
    "# arrest_counts.dtypes\n",
    "seaborn.lineplot(\n",
    "    arrest_counts,\n",
    ")"
   ]
  }
 ],
 "metadata": {
  "kernelspec": {
   "display_name": "Python 3.10.5 ('.virtualenv': venv)",
   "language": "python",
   "name": "python3"
  },
  "language_info": {
   "codemirror_mode": {
    "name": "ipython",
    "version": 3
   },
   "file_extension": ".py",
   "mimetype": "text/x-python",
   "name": "python",
   "nbconvert_exporter": "python",
   "pygments_lexer": "ipython3",
   "version": "3.10.5"
  },
  "orig_nbformat": 4,
  "vscode": {
   "interpreter": {
    "hash": "ee2ef8a8d3c61a83d5ae9a191a73ed92a63a8b007e24e304d810c055ff9c4660"
   }
  }
 },
 "nbformat": 4,
 "nbformat_minor": 2
}
